{
 "cells": [
  {
   "cell_type": "code",
   "execution_count": 28,
   "id": "876034a0",
   "metadata": {},
   "outputs": [],
   "source": [
    "import tensorflow as tf\n",
    "import numpy as np\n",
    "from PIL import Image\n",
    "from keras.preprocessing.image import ImageDataGenerator\n",
    "from keras.callbacks import ModelCheckpoint, LearningRateScheduler, EarlyStopping, ReduceLROnPlateau, TensorBoard\n",
    "from keras.models import (Sequential,\n",
    "                         Model)\n",
    "from keras.layers import (Dense,\n",
    "                         Conv2D,\n",
    "                         MaxPooling2D,\n",
    "                         Flatten)"
   ]
  },
  {
   "cell_type": "code",
   "execution_count": 29,
   "id": "71e1d7a3",
   "metadata": {},
   "outputs": [
    {
     "name": "stdout",
     "output_type": "stream",
     "text": [
      "Found 15750 files belonging to 9 classes.\n",
      "Found 15750 images belonging to 9 classes.\n",
      "Found 2250 images belonging to 9 classes.\n"
     ]
    }
   ],
   "source": [
    "directory=\"C:/Users/rohit/OneDrive/Desktop/VII/IBM-Project-19465-1659698319/Project Development Phase/Sprint 1/Dataset/training_set\"\n",
    "test_dir=\"C:/Users/rohit/OneDrive/Desktop/VII/IBM-Project-19465-1659698319/Project Development Phase/Sprint 1/Dataset/test_set\"\n",
    "train_datagen=ImageDataGenerator(rescale=1./255,shear_range=0.2,zoom_range=0.2,horizontal_flip=True)\n",
    "test_datagen=ImageDataGenerator(rescale=1./255)\n",
    "\n",
    "tf.keras.preprocessing.image_dataset_from_directory(\n",
    "    directory,\n",
    "    labels=\"inferred\",\n",
    "    label_mode=\"int\",\n",
    "    class_names=None,\n",
    "    color_mode=\"rgb\",\n",
    "    batch_size=32,\n",
    "    image_size=(256, 256),\n",
    "    shuffle=True,\n",
    "    seed=None,\n",
    "    validation_split=None,\n",
    "    subset=None,\n",
    "    interpolation=\"bilinear\",\n",
    "    follow_links=False,\n",
    "    crop_to_aspect_ratio=False\n",
    ")\n",
    "x_train=train_datagen.flow_from_directory(directory,target_size=(64,64),batch_size=200,\n",
    "                                          class_mode='categorical',color_mode=\"grayscale\")\n",
    "x_test=test_datagen.flow_from_directory(test_dir,target_size=(64,64),batch_size=200,\n",
    "                                          class_mode='categorical',color_mode=\"grayscale\")"
   ]
  },
  {
   "cell_type": "code",
   "execution_count": 44,
   "id": "ac7a239c",
   "metadata": {},
   "outputs": [
    {
     "name": "stdout",
     "output_type": "stream",
     "text": [
      "Model: \"sequential_19\"\n",
      "_________________________________________________________________\n",
      " Layer (type)                Output Shape              Param #   \n",
      "=================================================================\n",
      " conv2d_130 (Conv2D)         (None, 62, 62, 32)        320       \n",
      "                                                                 \n",
      " max_pooling2d_37 (MaxPoolin  (None, 31, 31, 32)       0         \n",
      " g2D)                                                            \n",
      "                                                                 \n",
      " conv2d_131 (Conv2D)         (None, 29, 29, 64)        18496     \n",
      "                                                                 \n",
      " max_pooling2d_38 (MaxPoolin  (None, 14, 14, 64)       0         \n",
      " g2D)                                                            \n",
      "                                                                 \n",
      " conv2d_132 (Conv2D)         (None, 12, 12, 256)       147712    \n",
      "                                                                 \n",
      " max_pooling2d_39 (MaxPoolin  (None, 6, 6, 256)        0         \n",
      " g2D)                                                            \n",
      "                                                                 \n",
      " conv2d_133 (Conv2D)         (None, 4, 4, 64)          147520    \n",
      "                                                                 \n",
      " max_pooling2d_40 (MaxPoolin  (None, 2, 2, 64)         0         \n",
      " g2D)                                                            \n",
      "                                                                 \n",
      " flatten_7 (Flatten)         (None, 256)               0         \n",
      "                                                                 \n",
      " dense_21 (Dense)            (None, 512)               131584    \n",
      "                                                                 \n",
      " dense_22 (Dense)            (None, 261)               133893    \n",
      "                                                                 \n",
      " dense_23 (Dense)            (None, 9)                 2358      \n",
      "                                                                 \n",
      "=================================================================\n",
      "Total params: 581,883\n",
      "Trainable params: 581,883\n",
      "Non-trainable params: 0\n",
      "_________________________________________________________________\n"
     ]
    }
   ],
   "source": [
    "model=Sequential()\n",
    "model.add(Conv2D(32,(3,3),input_shape=(64,64,1),activation='relu'))\n",
    "model.add(MaxPooling2D(pool_size=(2,2)))\n",
    "\n",
    "model.add(Conv2D(64,(3,3),activation='relu'))\n",
    "model.add(MaxPooling2D(2,2))\n",
    "model.add(Conv2D(256,(3,3),activation='relu'))\n",
    "model.add(MaxPooling2D(2,2))\n",
    "model.add(Conv2D(64,(3,3),activation='relu'))\n",
    "model.add(MaxPooling2D(2,2))\n",
    "\n",
    "model.add(Flatten())\n",
    "model.add(Dense(units=512,activation='relu'))\n",
    "model.add(Dense(units=261,activation='relu'))\n",
    "model.add(Dense(units=9,activation='softmax'))\n",
    "model.compile(loss='categorical_crossentropy',optimizer='adam',metrics=['accuracy'])\n",
    "model.summary()"
   ]
  },
  {
   "cell_type": "code",
   "execution_count": 46,
   "id": "6484d98e",
   "metadata": {},
   "outputs": [
    {
     "name": "stdout",
     "output_type": "stream",
     "text": [
      "Epoch 1/25\n",
      "79/79 [==============================] - 193s 2s/step - loss: 0.0031 - accuracy: 0.9990 - val_loss: 0.0553 - val_accuracy: 0.9858\n",
      "Epoch 2/25\n",
      "79/79 [==============================] - 119s 2s/step - loss: 0.0025 - accuracy: 0.9993 - val_loss: 0.1453 - val_accuracy: 0.9778\n",
      "Epoch 3/25\n",
      "79/79 [==============================] - 14s 173ms/step - loss: 0.0019 - accuracy: 0.9994 - val_loss: 0.1393 - val_accuracy: 0.9827\n",
      "Epoch 4/25\n",
      "79/79 [==============================] - 10s 129ms/step - loss: 0.0033 - accuracy: 0.9987 - val_loss: 0.1254 - val_accuracy: 0.9844\n",
      "Epoch 5/25\n",
      "79/79 [==============================] - 11s 137ms/step - loss: 0.0034 - accuracy: 0.9988 - val_loss: 0.2725 - val_accuracy: 0.9742\n",
      "Epoch 6/25\n",
      "79/79 [==============================] - 14s 174ms/step - loss: 0.0024 - accuracy: 0.9993 - val_loss: 0.1925 - val_accuracy: 0.9796\n",
      "Epoch 7/25\n",
      "79/79 [==============================] - 14s 177ms/step - loss: 0.0016 - accuracy: 0.9993 - val_loss: 0.1851 - val_accuracy: 0.9818\n",
      "Epoch 8/25\n",
      "79/79 [==============================] - 11s 133ms/step - loss: 0.0029 - accuracy: 0.9989 - val_loss: 0.0834 - val_accuracy: 0.9818\n",
      "Epoch 9/25\n",
      "79/79 [==============================] - 13s 169ms/step - loss: 0.0057 - accuracy: 0.9982 - val_loss: 0.1979 - val_accuracy: 0.9809\n",
      "Epoch 10/25\n",
      "79/79 [==============================] - 18s 226ms/step - loss: 0.0022 - accuracy: 0.9992 - val_loss: 0.1675 - val_accuracy: 0.9813\n",
      "Epoch 11/25\n",
      "79/79 [==============================] - 20s 253ms/step - loss: 0.0019 - accuracy: 0.9994 - val_loss: 0.1168 - val_accuracy: 0.9840\n",
      "Epoch 12/25\n",
      "79/79 [==============================] - 132s 2s/step - loss: 9.1370e-04 - accuracy: 0.9997 - val_loss: 0.2456 - val_accuracy: 0.9800\n",
      "Epoch 13/25\n",
      "79/79 [==============================] - 111s 1s/step - loss: 1.6822e-04 - accuracy: 1.0000 - val_loss: 0.2940 - val_accuracy: 0.9800\n",
      "Epoch 14/25\n",
      "79/79 [==============================] - 22s 278ms/step - loss: 3.6188e-05 - accuracy: 1.0000 - val_loss: 0.1932 - val_accuracy: 0.9831\n",
      "Epoch 15/25\n",
      "79/79 [==============================] - 20s 249ms/step - loss: 1.1670e-05 - accuracy: 1.0000 - val_loss: 0.2035 - val_accuracy: 0.9836\n",
      "Epoch 16/25\n",
      "79/79 [==============================] - 19s 236ms/step - loss: 0.0098 - accuracy: 0.9977 - val_loss: 0.3392 - val_accuracy: 0.9764\n",
      "Epoch 17/25\n",
      "79/79 [==============================] - 18s 229ms/step - loss: 0.0066 - accuracy: 0.9976 - val_loss: 0.2984 - val_accuracy: 0.9796\n",
      "Epoch 18/25\n",
      "79/79 [==============================] - 18s 226ms/step - loss: 0.0052 - accuracy: 0.9984 - val_loss: 0.2742 - val_accuracy: 0.9813\n",
      "Epoch 19/25\n",
      "79/79 [==============================] - 21s 265ms/step - loss: 5.2405e-04 - accuracy: 0.9999 - val_loss: 0.3083 - val_accuracy: 0.9813\n",
      "Epoch 20/25\n",
      "79/79 [==============================] - 18s 232ms/step - loss: 8.6441e-04 - accuracy: 0.9997 - val_loss: 0.2856 - val_accuracy: 0.9813\n",
      "Epoch 21/25\n",
      "79/79 [==============================] - 16s 198ms/step - loss: 1.2780e-04 - accuracy: 1.0000 - val_loss: 0.2886 - val_accuracy: 0.9827\n",
      "Epoch 22/25\n",
      "79/79 [==============================] - 15s 192ms/step - loss: 4.2001e-05 - accuracy: 1.0000 - val_loss: 0.2831 - val_accuracy: 0.9827\n",
      "Epoch 23/25\n",
      "79/79 [==============================] - 14s 174ms/step - loss: 1.6978e-05 - accuracy: 1.0000 - val_loss: 0.2795 - val_accuracy: 0.9827\n",
      "Epoch 24/25\n",
      "79/79 [==============================] - 12s 152ms/step - loss: 2.1133e-05 - accuracy: 1.0000 - val_loss: 0.2886 - val_accuracy: 0.9827\n",
      "Epoch 25/25\n",
      "79/79 [==============================] - 12s 152ms/step - loss: 9.6612e-06 - accuracy: 1.0000 - val_loss: 0.2918 - val_accuracy: 0.9827\n"
     ]
    }
   ],
   "source": [
    "with tf.device('/gpu:0'):\n",
    "    model.fit(x_train,steps_per_epoch=len(x_train),epochs=25,validation_data=x_test,validation_steps=len(x_test))"
   ]
  },
  {
   "cell_type": "code",
   "execution_count": 47,
   "id": "1bacceb3",
   "metadata": {},
   "outputs": [],
   "source": [
    "model.save('asl.h5')"
   ]
  }
 ],
 "metadata": {
  "kernelspec": {
   "display_name": "Python 3.9.13 ('tf_gpu')",
   "language": "python",
   "name": "python3"
  },
  "language_info": {
   "codemirror_mode": {
    "name": "ipython",
    "version": 3
   },
   "file_extension": ".py",
   "mimetype": "text/x-python",
   "name": "python",
   "nbconvert_exporter": "python",
   "pygments_lexer": "ipython3",
   "version": "3.9.13"
  },
  "vscode": {
   "interpreter": {
    "hash": "3d6a482af479a72cfe42964901f1adf76a22989bec0405c30476e6bbaaed4d39"
   }
  }
 },
 "nbformat": 4,
 "nbformat_minor": 5
}
